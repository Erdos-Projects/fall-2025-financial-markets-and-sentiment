{
 "cells": [
  {
   "cell_type": "markdown",
   "id": "4ea81b55",
   "metadata": {},
   "source": [
    "We had very limited success in fitting linear regression (time series and naive) to the spike data. Accordingly we will try a non-parametric method in case a connection is present but it is a non-linear relationship. We fit a decision tree and then a random forest on the full data set. Since it is theoretically more sound to include lag variables, but in the linear models the number of lags seemed to make little difference, we will include a single lagged variable for the previous day. "
   ]
  },
  {
   "cell_type": "code",
   "execution_count": 204,
   "id": "ea1dc835",
   "metadata": {},
   "outputs": [],
   "source": [
    "#import key packages\n",
    "\n",
    "import pandas as pd\n",
    "import numpy as np\n",
    "import matplotlib.pyplot as plt"
   ]
  },
  {
   "cell_type": "code",
   "execution_count": null,
   "id": "163f7ac1",
   "metadata": {},
   "outputs": [],
   "source": [
    "# save raw dataframe with spike data \n",
    "spike_data_raw = pd.read_csv(\"daily_spike_vs_none_1.5sigma_all.csv\")\n",
    "\n",
    "# sort by date in order to use grouptimeseriessplit, retain secondary sorting by ticker\n",
    "spike_data = spike_data_raw.sort_values(by=['Date','Ticker'], ascending=True)\n",
    "\n",
    "# drop WBA values because of a formatting issue\n",
    "spike_data = spike_data[spike_data['Ticker'] != 'WBA']"
   ]
  },
  {
   "cell_type": "code",
   "execution_count": 207,
   "id": "e4dd5f2f",
   "metadata": {},
   "outputs": [],
   "source": [
    "# restrict to single lagged variables for the previous day\n",
    "max_lag = 1\n",
    "\n",
    "# Create lagged features grouped by Ticker\n",
    "for lag in range(1, max_lag + 1):\n",
    "    spike_data[f'Spike_lag_{lag}'] = spike_data.groupby('Ticker')['Spike'].shift(lag)\n",
    "    spike_data[f'Volatility_lag_{lag}'] = spike_data.groupby('Ticker')['actual_volatility'].shift(lag)\n",
    "    spike_data[f'MarketVolatility_lag_{lag}'] = spike_data.groupby('Ticker')['SP500_actual_volatility'].shift(lag)\n",
    "\n",
    "# Create target variable: future volatility (day after)\n",
    "spike_data['Volatility_next'] = spike_data.groupby('Ticker')['actual_volatility'].shift(-1)\n",
    "\n",
    "# Drop rows with any missing values for these lagged features or target\n",
    "lagged_Spikes = [f'Spike_lag_{lag}' for lag in range(1, max_lag + 1)] \n",
    "lagged_av = [f'Volatility_lag_{lag}' for lag in range(1, max_lag + 1)]\n",
    "lagged_SP500_av = [f'MarketVolatility_lag_{lag}' for lag in range(1, max_lag + 1)]\n",
    "\n",
    "features = lagged_Spikes + lagged_av + lagged_SP500_av\n",
    "\n",
    "spike_data_model = spike_data.dropna(subset=features + ['Volatility_next']+ [\"Ticker\"])\n",
    "\n",
    "# our data\n",
    "X = spike_data_model[features]\n",
    "y = spike_data_model['Volatility_next']\n",
    "\n",
    "# Train-test split (chronological)\n",
    "split_date = '2025-04-01'\n",
    "train_mask = spike_data_model['Date'] < split_date\n",
    "test_mask = spike_data_model['Date'] >= split_date\n",
    "\n",
    "X_train, y_train = X[train_mask], y[train_mask]\n",
    "X_test, y_test = X[test_mask], y[test_mask]"
   ]
  },
  {
   "cell_type": "markdown",
   "id": "275a93a1",
   "metadata": {},
   "source": [
    "We will begin by implementing a simple decision tree and compare this to a custom random forest regressor using block bootstrapping to account for dependency in the data. Given the small number of features we do not need to vary samples of the feature set when we construct the decision trees for the random forest. We will conduct cross validation to tune hyperparameters for the decision tree."
   ]
  },
  {
   "cell_type": "code",
   "execution_count": 208,
   "id": "bbaf45e3",
   "metadata": {},
   "outputs": [
    {
     "name": "stdout",
     "output_type": "stream",
     "text": [
      "{'max_depth': np.int64(2), 'min_samples_leaf': np.int64(6), 'min_samples_split': np.int64(4)}\n"
     ]
    }
   ],
   "source": [
    "# tune hyperparameters for decision tree using cross validation\n",
    "\n",
    "#import tools for decision tree regression and hyperparameter tuning\n",
    "from sklearn.model_selection import train_test_split, GridSearchCV, TimeSeriesSplit\n",
    "from sklearn.tree import DecisionTreeRegressor\n",
    "from sklearn.metrics import root_mean_squared_error as rmse\n",
    "from sklearn.base import clone\n",
    "\n",
    "#import special tool for creating cross validation splits that are time series splits within each Ticker\n",
    "#mlxtend is not standardly in the conda environment for erdos, but is easy to add to the environment via the terminal\n",
    "from mlxtend.evaluate import GroupTimeSeriesSplit\n",
    "\n",
    "#Hyperparameter distributions for GridSearchCV\n",
    "param_distributions = {\n",
    "    \"max_depth\": np.arange(2, 51),\n",
    "    \"min_samples_split\": np.arange(2, 11),\n",
    "    \"min_samples_leaf\": np.arange(2, 11)\n",
    "}\n",
    "\n",
    "# gridsearch CV for hyperparameter tuning, time series splits with 1 day horizon CHANGE TO USE DATE\n",
    "\n",
    "#set the groups for GroupTimeSeriesSplit (satisfies requirement that it is a consecutive list)\n",
    "groups = spike_data_model[train_mask][\"Date\"] \n",
    "#set the group as the index in order to implement GroupTimeSeriesSplit and not train on the group\n",
    "X_train.set_index(groups)\n",
    "\n",
    "#initiate the cv object\n",
    "cv = GroupTimeSeriesSplit(test_size = 1, n_splits=5)\n",
    "\n",
    "#compare using mse\n",
    "search = GridSearchCV(\n",
    "    DecisionTreeRegressor(),\n",
    "    param_distributions,\n",
    "    cv=cv,\n",
    "    scoring=\"neg_mean_squared_error\",\n",
    "    n_jobs=-1\n",
    ")\n",
    "\n",
    "#fit the cv object on the training data, specify the groups\n",
    "search.fit(X_train, y_train, groups=groups)\n",
    "\n",
    "#return the tuned parameters\n",
    "print(search.best_params_)"
   ]
  },
  {
   "cell_type": "code",
   "execution_count": null,
   "id": "e9a768d8",
   "metadata": {},
   "outputs": [],
   "source": [
    "#configure a custom random forest using the tuned parameters for each tree utilising block bootstrapping\n",
    "#repeat the data cleaning process but retaining the ticker and date\n",
    "\n",
    "# we include the Ticker and date as well in order to create blocks\n",
    "U = spike_data_model[features + [\"Ticker\"] +[\"Date\"]]\n",
    "V = spike_data_model['Volatility_next']\n",
    "\n",
    "# Train-test split (chronological)\n",
    "split_date = '2025-04-01'\n",
    "train_mask = spike_data_model['Date'] < split_date\n",
    "test_mask = spike_data_model['Date'] >= split_date\n",
    "\n",
    "U_train, V_train = U[train_mask], V[train_mask]\n",
    "U_test, V_test = U[test_mask], V[test_mask]\n",
    "\n"
   ]
  },
  {
   "cell_type": "code",
   "execution_count": null,
   "id": "69900bee",
   "metadata": {},
   "outputs": [
    {
     "name": "stdout",
     "output_type": "stream",
     "text": [
      "All dates have the same number of entries.\n",
      "There are  242  unique dates.\n"
     ]
    }
   ],
   "source": [
    "#collect all the dates from the training data\n",
    "unique_dates = U_train.Date.unique()\n",
    "\n",
    "# ensure all dates have the same number of entries in the training set\n",
    "for date in unique_dates:\n",
    "    n=0\n",
    "    if len(U_train[U_train[\"Date\"]==date])!=48:\n",
    "        n+=1\n",
    "if n==0:\n",
    "    print(\"All dates have the same number of entries.\")\n",
    "else:\n",
    "    print(\"There are dates with distinct numbers of entries.\")\n",
    "\n",
    "print(\"There are \",len(unique_dates),\" unique dates.\")"
   ]
  },
  {
   "cell_type": "code",
   "execution_count": null,
   "id": "e4bf456a",
   "metadata": {},
   "outputs": [
    {
     "name": "stdout",
     "output_type": "stream",
     "text": [
      "There are  24  blocks.\n"
     ]
    }
   ],
   "source": [
    "# remove the first two dates just to make forming blocks of ten easier\n",
    "unique_dates_new = unique_dates[2:]\n",
    "\n",
    "# form blocks of consecutive dates with length ten\n",
    "no_dates = len(unique_dates_new)\n",
    "\n",
    "blocks = {}\n",
    "for i,j in enumerate(range(0,no_dates, 10)):\n",
    "    blocks[i] = unique_dates_new[j:j+10]\n",
    "\n",
    "print(\"There are \",len(blocks),\" blocks.\")"
   ]
  },
  {
   "cell_type": "code",
   "execution_count": 212,
   "id": "fa7fbc28",
   "metadata": {},
   "outputs": [
    {
     "data": {
      "text/html": [
       "<div>\n",
       "<style scoped>\n",
       "    .dataframe tbody tr th:only-of-type {\n",
       "        vertical-align: middle;\n",
       "    }\n",
       "\n",
       "    .dataframe tbody tr th {\n",
       "        vertical-align: top;\n",
       "    }\n",
       "\n",
       "    .dataframe thead th {\n",
       "        text-align: right;\n",
       "    }\n",
       "</style>\n",
       "<table border=\"1\" class=\"dataframe\">\n",
       "  <thead>\n",
       "    <tr style=\"text-align: right;\">\n",
       "      <th></th>\n",
       "      <th>Spike_lag_1</th>\n",
       "      <th>Volatility_lag_1</th>\n",
       "      <th>MarketVolatility_lag_1</th>\n",
       "      <th>Ticker</th>\n",
       "      <th>Date</th>\n",
       "    </tr>\n",
       "  </thead>\n",
       "  <tbody>\n",
       "    <tr>\n",
       "      <th>0</th>\n",
       "      <td>0.0</td>\n",
       "      <td>0.010288167272858306</td>\n",
       "      <td>0.011483</td>\n",
       "      <td>AAPL</td>\n",
       "      <td>2024-08-24</td>\n",
       "    </tr>\n",
       "    <tr>\n",
       "      <th>1</th>\n",
       "      <td>0.0</td>\n",
       "      <td>0.006009072785510217</td>\n",
       "      <td>0.011483</td>\n",
       "      <td>ABBV</td>\n",
       "      <td>2024-08-24</td>\n",
       "    </tr>\n",
       "    <tr>\n",
       "      <th>2</th>\n",
       "      <td>0.0</td>\n",
       "      <td>0.005166572293719973</td>\n",
       "      <td>0.011483</td>\n",
       "      <td>AMZN</td>\n",
       "      <td>2024-08-24</td>\n",
       "    </tr>\n",
       "    <tr>\n",
       "      <th>3</th>\n",
       "      <td>0.0</td>\n",
       "      <td>0.012734500329844689</td>\n",
       "      <td>0.011483</td>\n",
       "      <td>BA</td>\n",
       "      <td>2024-08-24</td>\n",
       "    </tr>\n",
       "    <tr>\n",
       "      <th>4</th>\n",
       "      <td>0.0</td>\n",
       "      <td>0.013506562493615482</td>\n",
       "      <td>0.011483</td>\n",
       "      <td>BAC</td>\n",
       "      <td>2024-08-24</td>\n",
       "    </tr>\n",
       "    <tr>\n",
       "      <th>...</th>\n",
       "      <td>...</td>\n",
       "      <td>...</td>\n",
       "      <td>...</td>\n",
       "      <td>...</td>\n",
       "      <td>...</td>\n",
       "    </tr>\n",
       "    <tr>\n",
       "      <th>955</th>\n",
       "      <td>0.0</td>\n",
       "      <td>-0.008287671489216275</td>\n",
       "      <td>-0.008933</td>\n",
       "      <td>UPS</td>\n",
       "      <td>2024-08-23</td>\n",
       "    </tr>\n",
       "    <tr>\n",
       "      <th>956</th>\n",
       "      <td>0.0</td>\n",
       "      <td>-0.004384904822911095</td>\n",
       "      <td>-0.008933</td>\n",
       "      <td>VZ</td>\n",
       "      <td>2024-08-23</td>\n",
       "    </tr>\n",
       "    <tr>\n",
       "      <th>957</th>\n",
       "      <td>0.0</td>\n",
       "      <td>0.009015435344438494</td>\n",
       "      <td>-0.008933</td>\n",
       "      <td>WFC</td>\n",
       "      <td>2024-08-23</td>\n",
       "    </tr>\n",
       "    <tr>\n",
       "      <th>958</th>\n",
       "      <td>0.0</td>\n",
       "      <td>0.004518857018117606</td>\n",
       "      <td>-0.008933</td>\n",
       "      <td>WMT</td>\n",
       "      <td>2024-08-23</td>\n",
       "    </tr>\n",
       "    <tr>\n",
       "      <th>959</th>\n",
       "      <td>0.0</td>\n",
       "      <td>0.007729510260440664</td>\n",
       "      <td>-0.008933</td>\n",
       "      <td>XOM</td>\n",
       "      <td>2024-08-23</td>\n",
       "    </tr>\n",
       "  </tbody>\n",
       "</table>\n",
       "<p>960 rows × 5 columns</p>\n",
       "</div>"
      ],
      "text/plain": [
       "     Spike_lag_1       Volatility_lag_1  ...  Ticker        Date\n",
       "0            0.0   0.010288167272858306  ...    AAPL  2024-08-24\n",
       "1            0.0   0.006009072785510217  ...    ABBV  2024-08-24\n",
       "2            0.0   0.005166572293719973  ...    AMZN  2024-08-24\n",
       "3            0.0   0.012734500329844689  ...      BA  2024-08-24\n",
       "4            0.0   0.013506562493615482  ...     BAC  2024-08-24\n",
       "..           ...                    ...  ...     ...         ...\n",
       "955          0.0  -0.008287671489216275  ...     UPS  2024-08-23\n",
       "956          0.0  -0.004384904822911095  ...      VZ  2024-08-23\n",
       "957          0.0   0.009015435344438494  ...     WFC  2024-08-23\n",
       "958          0.0   0.004518857018117606  ...     WMT  2024-08-23\n",
       "959          0.0   0.007729510260440664  ...     XOM  2024-08-23\n",
       "\n",
       "[960 rows x 5 columns]"
      ]
     },
     "execution_count": 212,
     "metadata": {},
     "output_type": "execute_result"
    }
   ],
   "source": [
    "# define a function that takes in an ordered sequence of block indexes (with repetitions) and returns a bootstrapped training set \n",
    "# consisting of these blocks concatenated from the given dataframe. df_no_date is the actual training data, df_date is the same data\n",
    "# with the date column retained\n",
    "\n",
    "def blockfuse(list_, df_no_date,df_date):\n",
    "    seq = [df_no_date[df_date[\"Date\"].isin(blocks[i])] for i in list_]\n",
    "    return pd.concat(seq, axis=0, ignore_index=True)\n",
    "\n",
    "# check\n",
    "blockfuse([2,1], U_train, U_train)"
   ]
  },
  {
   "cell_type": "code",
   "execution_count": null,
   "id": "6d1a4dac",
   "metadata": {},
   "outputs": [
    {
     "name": "stdout",
     "output_type": "stream",
     "text": [
      "The mean rmse for the random forest is  0.015084866875891561 .\n",
      "The mean rmse for the decision tree is  0.01489810268522986 .\n"
     ]
    }
   ],
   "source": [
    "# Compare decision tree with random forest using cross validation.\n",
    "\n",
    "# initiate decision tree with the tuned hyperparameters\n",
    "best_tree = DecisionTreeRegressor(max_depth=search.best_params_[\"max_depth\"],\n",
    "                                  min_samples_leaf=search.best_params_[\"min_samples_leaf\"],\n",
    "                                  min_samples_split=search.best_params_[\"min_samples_split\"]\n",
    ")\n",
    "\n",
    "# form training and test sets by dropping date and ticker columns and dropping the first two dates of training data\n",
    "# to agree with bootstrapping\n",
    "X_train_date = U_train[U_train[\"Date\"].isin(unique_dates_new)]\n",
    "X_train = X_train_date.drop([\"Date\",\"Ticker\"], axis=1)\n",
    "y_train = V_train[U_train[\"Date\"].isin(unique_dates_new)]\n",
    "\n",
    "X_test = U_test.drop([\"Date\",\"Ticker\"], axis=1)\n",
    "y_test = V_test\n",
    "\n",
    "\n",
    "# set the groups for GroupTimeSeriesSplit (satisfies requirement that it is a consecutive list)\n",
    "groups = X_train_date[\"Date\"] \n",
    "\n",
    "# set the group as the index in order to implement GroupTimeSeriesSplit and not train on the group\n",
    "X_train.set_index(groups)\n",
    "\n",
    "# cross-validate to compare the random forest to the decision tree\n",
    "n_splits = 5\n",
    "cv = GroupTimeSeriesSplit(test_size = 1, n_splits=n_splits)\n",
    "\n",
    "# generate array of random bootstrap sets for use in each cross-validation, generate altogether with a seed for reproducibility\n",
    "n_bootstrap_iter = 500\n",
    "rng = np.random.default_rng(seed=501)\n",
    "bootstrap_index_array = rng.integers(0,24,(n_splits,n_bootstrap_iter,24))\n",
    "\n",
    "# create array to store cross validation rmse\n",
    "rmses = np.zeros((2,n_splits))\n",
    "\n",
    "# cross validate to compare decision tree with random forest\n",
    "for i, (train_index, test_index) in enumerate(cv.split(X_train, y_train, groups = groups)):\n",
    "    \n",
    "    # get the training data\n",
    "    X_train_train_date = X_train_date.iloc[train_index, :]\n",
    "    X_train_train = X_train.iloc[train_index, :]\n",
    "    y_train_train = y_train.iloc[train_index]\n",
    "\n",
    "    # get the holdout data\n",
    "    X_holdout = X_train.iloc[test_index, :]\n",
    "    y_holdout = y_train.iloc[test_index]\n",
    "\n",
    "    # a list of the trees fitted on the bootstrap data\n",
    "    bootstrap_trees = []\n",
    "    \n",
    "    # fit decision tree on 500 block-bootstrapped data sets\n",
    "    for k in range(n_bootstrap_iter):\n",
    "        bootstrap_block_list = bootstrap_index_array[i,k,:]\n",
    "        #form bootstrapped features and drop the date and ticker columns\n",
    "        X_boot = blockfuse(bootstrap_block_list, X_train_train, X_train_train_date)\n",
    "        # form bootstrapped targets\n",
    "        y_boot = blockfuse(bootstrap_block_list, y_train_train, X_train_train_date)\n",
    "        #clone the best decision tree\n",
    "        model=clone(best_tree)\n",
    "        # store the model in the dictionary\n",
    "        bootstrap_trees += [model]\n",
    "        # fit decision tree on this data\n",
    "        model.fit(X_boot,y_boot)\n",
    "\n",
    "    # fit decision tree on entire fold\n",
    "    best_tree.fit(X_train_train,y_train_train)\n",
    "\n",
    "    # use forest to predict for fold and compute rmse\n",
    "    bootstrap_pred = {}\n",
    "    for k,model_ in enumerate(bootstrap_trees):\n",
    "        bootstrap_pred[k] = model_.predict(X_holdout)\n",
    "   \n",
    "    #return predictions on holdout as a dataframe with mean column\n",
    "    results = pd.DataFrame(bootstrap_pred)\n",
    "    results[\"mean\"]= results.mean(axis=1)\n",
    "\n",
    "    # the forest predictions are the means\n",
    "    forest_pred = results[\"mean\"]\n",
    "    \n",
    "    # the tree predictions are given as standard\n",
    "    tree_pred = best_tree.predict(X_holdout)\n",
    "    \n",
    "    # compute root mean squared error for each \n",
    "    forest_rmse = rmse(y_holdout, forest_pred)\n",
    "    tree_rmse = rmse(y_holdout, tree_pred)\n",
    "    \n",
    "    # add to array\n",
    "    rmses[(0,i)] = forest_rmse\n",
    "    rmses[(1,i)] = tree_rmse\n",
    "\n",
    "print(\"The mean rmse for the random forest is \", rmses.mean(axis=1)[0],\".\")\n",
    "print(\"The mean rmse for the decision tree is \", rmses.mean(axis=1)[1],\".\")\n",
    "    \n",
    "\n"
   ]
  },
  {
   "cell_type": "markdown",
   "id": "b6cdfa02",
   "metadata": {},
   "source": [
    "The random forest actually does worse than the decision tree alone. So, we will finish by fitting the decision tree on the test set."
   ]
  },
  {
   "cell_type": "code",
   "execution_count": null,
   "id": "43884393",
   "metadata": {},
   "outputs": [
    {
     "name": "stdout",
     "output_type": "stream",
     "text": [
      "Test RMSE: 0.022832170429415915\n",
      "Test R²: 0.0010\n"
     ]
    }
   ],
   "source": [
    "# Predictions and evaluation\n",
    "y_pred = best_tree.predict(X_test)\n",
    "rmse_ = rmse(y_test, y_pred)  # Mean Squared Error\n",
    "print(\"Test RMSE:\", rmse_)\n",
    "r2_test = best_tree.score(X_test, y_test)\n",
    "print(f\"Test R²: {r2_test:.4f}\")"
   ]
  },
  {
   "cell_type": "markdown",
   "id": "65c15ac9",
   "metadata": {},
   "source": [
    "This R^2 score is very poor. We include a plot below to indicate the coarseness of this model."
   ]
  },
  {
   "cell_type": "code",
   "execution_count": null,
   "id": "2e1136f5",
   "metadata": {},
   "outputs": [
    {
     "data": {
      "image/png": "[encoded data removed]",
      "text/plain": [
       "<Figure size 700x700 with 1 Axes>"
      ]
     },
     "metadata": {},
     "output_type": "display_data"
    }
   ],
   "source": [
    "# Plot predicted vs actual\n",
    "y_test_plot = np.asarray(y_test)\n",
    "plt.figure(figsize=(7, 7))\n",
    "plt.scatter(y_test_plot, y_pred, alpha=0.5)\n",
    "plt.xlabel('Actual Volatility Next Day')\n",
    "plt.ylabel('Predicted Volatility Next Day ')\n",
    "plt.title('Predicted vs Actual Volatility (Test Set)')\n",
    "plt.xticks([])\n",
    "\n",
    "plt.show()"
   ]
  },
  {
   "cell_type": "markdown",
   "id": "845df513",
   "metadata": {},
   "source": [
    "In all, we have had little success attempting to model the actual volatility using the lagged actual volatility, SP500 lagged actual volatility and the lagged spike data using tree-based methods. "
   ]
  }
 ],
 "metadata": {
  "kernelspec": {
   "display_name": "erdos_ds_environment",
   "language": "python",
   "name": "python3"
  },
  "language_info": {
   "codemirror_mode": {
    "name": "ipython",
    "version": 3
   },
   "file_extension": ".py",
   "mimetype": "text/x-python",
   "name": "python",
   "nbconvert_exporter": "python",
   "pygments_lexer": "ipython3",
   "version": "3.12.11"
  }
 },
 "nbformat": 4,
 "nbformat_minor": 5
}
