{
 "cells": [
  {
   "cell_type": "code",
   "execution_count": 9,
   "id": "f81dd8de",
   "metadata": {},
   "outputs": [
    {
     "name": "stderr",
     "output_type": "stream",
     "text": [
      "[*********************100%***********************]  49 of 49 completed\n",
      "[*********************100%***********************]  1 of 1 completed\n"
     ]
    }
   ],
   "source": [
    "import numpy as np\n",
    "import matplotlib.pyplot as plt\n",
    "import scipy.stats as stats\n",
    "import pandas as pd\n",
    "import seaborn as sns\n",
    "from scipy.optimize import minimize\n",
    "import datetime as dt\n",
    "sns.set_style('darkgrid')\n",
    "import yfinance as yf\n",
    "\n",
    "sp500_tickers = [\n",
    "\"WMT\", \"AMZN\", \"AAPL\", \"CVS\", \"TSLA\", \"GOOGL\", \"META\", \"JPM\", \"COST\", \"KR\",\n",
    "\"WBA\", \"TGT\", \"UPS\", \"CNC\", \"CI\", \"MSFT\", \"VZ\", \"IBM\", \"UNH\", \"XOM\",\n",
    "\"MCK\", \"CVX\", \"CAH\", \"HD\", \"WBA\", \"MPC\", \"COR\", \"F\", \"C\", \"DELL\",\n",
    "\"GM\", \"NVDA\", \"PFE\", \"PG\", \"CMCSA\", \"JNJ\", \"WFC\", \"BAC\", \"ABBV\", \"SBUX\",\n",
    "\"CSCO\", \"T\", \"PEP\", \"INTC\", \"DIS\", \"BA\", \"GS\", \"MS\", \"HON\", \"CRM\"\n",
    "]\n",
    "\n",
    "# Get the data for tickers from yahoo finance\n",
    "\n",
    "stock_data = yf.download(sp500_tickers,'2023-1-1','2025-10-1', auto_adjust=True)['Close']\n",
    "SP500 = yf.download('^GSPC','2023-1-1','2025-10-1', auto_adjust=True)['Close']\n"
   ]
  },
  {
   "cell_type": "code",
   "execution_count": null,
   "id": "77b68ead",
   "metadata": {},
   "outputs": [
    {
     "data": {
      "text/plain": [
       "'2025-01-02'"
      ]
     },
     "execution_count": 22,
     "metadata": {},
     "output_type": "execute_result"
    }
   ],
   "source": [
    "#Version with NaN values for weekends/holidays.\n",
    "# Create a date range including weekends\n",
    "all_days = pd.date_range(start=stock_data.index.min(), end=stock_data.index.max(), freq='D')\n",
    "\n",
    "# Reindex the DataFrame with this date range\n",
    "reindexed_stock_data = stock_data.reindex(all_days)\n",
    "reindexed_SP500 = SP500.reindex(all_days)\n",
    "\n",
    "#Function to test if a date is a trading day\n",
    "def is_trading_day(date):\n",
    "    return date in stock_data.index\n",
    "\n",
    "is_trading_day('2025-1-1')\n",
    "\n",
    "def next_trading_day(day):\n",
    "    date = dt.datetime.strptime(day, '%Y-%m-%d')\n",
    "    next_day = date + dt.timedelta(1)\n",
    "    max_lookahead = 365  # prevent infinite loop going 1 year ahead\n",
    "    count = 0\n",
    "    while not is_trading_day(next_day):\n",
    "        next_day += dt.timedelta(1)\n",
    "        count += 1\n",
    "        if count > max_lookahead:\n",
    "            raise ValueError(\"No trading day found within 1 year from start date\")\n",
    "    return next_day.strftime('%Y-%m-%d')\n",
    "\n",
    "next_trading_day('2025-1-1')\n"
   ]
  },
  {
   "cell_type": "code",
   "execution_count": 11,
   "id": "2f3d96fa",
   "metadata": {},
   "outputs": [
    {
     "name": "stderr",
     "output_type": "stream",
     "text": [
      "C:\\Users\\Thisu\\AppData\\Local\\Temp\\ipykernel_22040\\1458790297.py:6: FutureWarning: The default fill_method='pad' in DataFrame.pct_change is deprecated and will be removed in a future version. Either fill in any non-leading NA values prior to calling pct_change or specify 'fill_method=None' to not fill NA values.\n",
      "  pct_change = stock_data.pct_change().dropna()\n"
     ]
    }
   ],
   "source": [
    "#log returns\n",
    "log_returns = np.log(stock_data/stock_data.shift(1)).dropna()\n",
    "SP_log_returns = np.log(SP500/SP500.shift(1)).dropna()\n",
    "#Percentage change in stock returns day-to-day (in lieu of trading day variance)\n",
    "SP_pct_change = SP500.pct_change().dropna()\n",
    "pct_change = stock_data.pct_change().dropna()\n",
    "#variance of stock returns over each week in the period (5 trading days) \n",
    "SP_weekly_variance = SP_log_returns.rolling(window=5).var().dropna()\n",
    "weekly_variance = log_returns.rolling(window=5).var().dropna()\n",
    "#variance of stock returns over each month in the period (21 trading days)\n",
    "SP_monthly_variance = SP_log_returns.rolling(window=21).var().dropna()\n",
    "monthly_variance = log_returns.rolling(window=21).var().dropna()\n",
    "#variance of stock returns over each 2 weeks in the period (10 trading days)\n",
    "SP_biweekly_variance = SP_log_returns.rolling(window=10).var().dropna()\n",
    "biweekly_variance = log_returns.rolling(window=10).var().dropna()\n",
    "\n",
    "\n",
    "#super averages\n",
    "#average percent change in a single day\n",
    "Av_SP_pct_change = SP_pct_change.mean()\n",
    "av_pct_change = pct_change.mean()\n",
    "#average weekly variance\n",
    "av_weekly_variance = weekly_variance.mean()\n",
    "Av_SP_weekly_variance = SP_weekly_variance.mean()\n",
    "#average monthly variance\n",
    "av_monthly_variance = monthly_variance.mean()\n",
    "Av_SP_monthly_variance = SP_monthly_variance.mean()\n",
    "#average biweekly variance\n",
    "av_biweekly_variance = biweekly_variance.mean()\n",
    "Av_SP_biweekly_variance = SP_biweekly_variance.mean()\n",
    "\n",
    "#Note: variance windows are in trading days, not calendar days. Moreover, these are backwards looking rolling variances."
   ]
  },
  {
   "cell_type": "markdown",
   "id": "6cc762d7",
   "metadata": {},
   "source": [
    "Notes: Need to account for weekend social media activity"
   ]
  }
 ],
 "metadata": {
  "kernelspec": {
   "display_name": "Python 3",
   "language": "python",
   "name": "python3"
  },
  "language_info": {
   "codemirror_mode": {
    "name": "ipython",
    "version": 3
   },
   "file_extension": ".py",
   "mimetype": "text/x-python",
   "name": "python",
   "nbconvert_exporter": "python",
   "pygments_lexer": "ipython3",
   "version": "3.13.7"
  }
 },
 "nbformat": 4,
 "nbformat_minor": 5
}
