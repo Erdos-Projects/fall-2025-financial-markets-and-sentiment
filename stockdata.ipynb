{
 "cells": [
  {
   "cell_type": "code",
   "execution_count": 5,
   "id": "f81dd8de",
   "metadata": {},
   "outputs": [
    {
     "name": "stderr",
     "output_type": "stream",
     "text": [
      "[*********************100%***********************]  49 of 49 completed\n"
     ]
    }
   ],
   "source": [
    "import numpy as np\n",
    "import matplotlib.pyplot as plt\n",
    "import scipy.stats as stats\n",
    "import pandas as pd\n",
    "import seaborn as sns\n",
    "from scipy.optimize import minimize\n",
    "import datetime as dt\n",
    "sns.set_style('darkgrid')\n",
    "import yfinance as yf\n",
    "\n",
    "sp500_tickers = [\n",
    "\"WMT\", \"AMZN\", \"AAPL\", \"CVS\", \"TSLA\", \"GOOGL\", \"META\", \"JPM\", \"COST\", \"KR\",\n",
    "\"WBA\", \"TGT\", \"UPS\", \"CNC\", \"CI\", \"MSFT\", \"VZ\", \"IBM\", \"UNH\", \"XOM\",\n",
    "\"MCK\", \"CVX\", \"CAH\", \"HD\", \"WBA\", \"MPC\", \"COR\", \"F\", \"C\", \"DELL\",\n",
    "\"GM\", \"NVDA\", \"PFE\", \"PG\", \"CMCSA\", \"JNJ\", \"WFC\", \"BAC\", \"ABBV\", \"SBUX\",\n",
    "\"CSCO\", \"T\", \"PEP\", \"INTC\", \"DIS\", \"BA\", \"GS\", \"MS\", \"HON\", \"CRM\"\n",
    "]\n",
    "\n",
    "# Get the data for tickers from yahoo finance\n",
    "\n",
    "stock_data = yf.download(sp500_tickers,'2024-8-1','2025-10-1', auto_adjust=True)['Close']\n"
   ]
  },
  {
   "cell_type": "code",
   "execution_count": null,
   "id": "2f3d96fa",
   "metadata": {},
   "outputs": [],
   "source": []
  }
 ],
 "metadata": {
  "kernelspec": {
   "display_name": "Python 3",
   "language": "python",
   "name": "python3"
  },
  "language_info": {
   "codemirror_mode": {
    "name": "ipython",
    "version": 3
   },
   "file_extension": ".py",
   "mimetype": "text/x-python",
   "name": "python",
   "nbconvert_exporter": "python",
   "pygments_lexer": "ipython3",
   "version": "3.13.7"
  }
 },
 "nbformat": 4,
 "nbformat_minor": 5
}
