{
 "cells": [
  {
   "cell_type": "code",
   "execution_count": null,
   "id": "f81dd8de",
   "metadata": {},
   "outputs": [],
   "source": [
    "import numpy as np\n",
    "import matplotlib.pyplot as plt\n",
    "import scipy.stats as stats\n",
    "import pandas as pd\n",
    "import seaborn as sns\n",
    "from scipy.optimize import minimize\n",
    "import datetime as dt\n",
    "sns.set_style('darkgrid')\n",
    "import yfinance as yf\n",
    "\n",
    "# Read and print the stock tickers that make up S&P500\n",
    "tickers = pd.read_html(\n",
    "    'https://en.wikipedia.org/wiki/List_of_S%26P_500_companies')[0]\n",
    "\n",
    "\n",
    "#Clean the tickers DataFrame to remove undefined values.\n",
    "updated_tickers = [x for x in tickers.Symbol if x not in ['BF.B', 'BRK.B', 'MMM', 'SOLV','GEV', 'SW']]\n",
    "\n",
    "# Get the data for tickers from yahoo finance\n",
    "\n",
    "stock_data = [yf.download(updated_tickers,'2024-1-1','2025-5-31', auto_adjust=True)['Close'],\n",
    "              yf.download(updated_tickers,'2022-1-1','2024-1-1', auto_adjust=True)['Close'], \n",
    "              yf.download(updated_tickers,'2023-1-1','2024-1-1', auto_adjust=True)['Close'],\n",
    "                yf.download(updated_tickers,'2019-1-1','2024-1-1', auto_adjust=True)['Close'], \n",
    "              yf.download(updated_tickers,'2025-1-1','2025-5-31', auto_adjust=True)['Close'],\n",
    "               yf.download(updated_tickers,'2024-9-1','2025-1-1', auto_adjust=True)['Close'],\n",
    "                yf.download(updated_tickers,'2022-6-1','2023-1-1', auto_adjust=True)['Close'],\n",
    "                yf.download(updated_tickers,'2021-4-1','2021-8-30', auto_adjust=True)['Close'],\n",
    "              yf.download(updated_tickers,'2025-2-1','2025-4-28', auto_adjust=True)['Close'],\n",
    "              yf.download(updated_tickers,'2024-10-1','2024-11-01', auto_adjust=True)['Close'],\n",
    "              yf.download(updated_tickers,'2023-1-1','2023-05-01', auto_adjust=True)['Close'],\n",
    "              yf.download(updated_tickers,'2022-6-1','2022-10-01', auto_adjust=True)['Close']]\n",
    "\n",
    "time_periods = ['2024-01-01 to 2025-05-31',\n",
    "                '2022-01-01 to 2024-01-01',\n",
    "                '2023-01-01 to 2024-01-01',\n",
    "                '2019-01-01 to 2024-01-01',\n",
    "                '2025-01-01 to 2025-05-31',\n",
    "                '2024-09-01 to 2025-01-01',\n",
    "                '2022-06-01 to 2023-01-01',\n",
    "                '2021-04-01 to 2021-04-30',\n",
    "                '2025-02-01 to 2025-04-28', \n",
    "                '2024-10-01 to 2024-12-01',\n",
    "                '2023-01-01 to 2023-05-01',\n",
    "                '2022-06-01 to 2022-10-01']\n"
   ]
  }
 ],
 "metadata": {
  "kernelspec": {
   "display_name": ".venv",
   "language": "python",
   "name": "python3"
  },
  "language_info": {
   "name": "python",
   "version": "3.13.7"
  }
 },
 "nbformat": 4,
 "nbformat_minor": 5
}
